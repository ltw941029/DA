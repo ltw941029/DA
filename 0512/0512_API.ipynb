{
  "nbformat": 4,
  "nbformat_minor": 0,
  "metadata": {
    "colab": {
      "private_outputs": true,
      "provenance": []
    },
    "kernelspec": {
      "name": "python3",
      "display_name": "Python 3"
    },
    "language_info": {
      "name": "python"
    }
  },
  "cells": [
    {
      "cell_type": "code",
      "source": [
        "pip install requests"
      ],
      "metadata": {
        "id": "pIfTKrvBzI3v"
      },
      "execution_count": null,
      "outputs": []
    },
    {
      "cell_type": "code",
      "source": [
        "import json"
      ],
      "metadata": {
        "id": "JUFf4Ienza9v"
      },
      "execution_count": null,
      "outputs": []
    },
    {
      "cell_type": "code",
      "source": [
        "import requests\n",
        "\n",
        "lat = 37.54\n",
        "lon = 126.98\n",
        "apikey = \"0f9cd0afbc2acb492d5e7949bed9e76e\" # https://openweathermap.org/ 에서 api키 받기\n",
        "lang = \"kr\"\n",
        "\n",
        "api = f\"https://api.openweathermap.org/data/2.5/weather?lat={lat}&lon={lon}&appid={apikey}&lang={lang}\"\n",
        "\n",
        "result = requests.get(api)\n",
        "print(result.text)"
      ],
      "metadata": {
        "id": "SfT_FXwoIOlZ"
      },
      "execution_count": null,
      "outputs": []
    },
    {
      "cell_type": "code",
      "source": [
        "import requests\n",
        "import json\n",
        "\n",
        "lat = 37.54\n",
        "lon = 126.98\n",
        "apikey = \"0f9cd0afbc2acb492d5e7949bed9e76e\"\n",
        "lang = \"kr\"\n",
        "\n",
        "api = f\"https://api.openweathermap.org/data/2.5/weather?lat={lat}&lon={lon}&appid={apikey}&lang={lang}\"\n",
        "\n",
        "result = requests.get(api)\n",
        "print(result.text)\n",
        "\n",
        "data = json.loads(result.text)\n",
        "\n",
        "print(type(result.text))\n",
        "print(type(data))"
      ],
      "metadata": {
        "id": "UaC8qhlQJT8T"
      },
      "execution_count": null,
      "outputs": []
    },
    {
      "cell_type": "code",
      "source": [
        "import requests\n",
        "import json\n",
        "\n",
        "lat = 37.54\n",
        "lon = 126.98\n",
        "apikey = \"0f9cd0afbc2acb492d5e7949bed9e76e\"\n",
        "lang = \"kr\"\n",
        "\n",
        "api = f\"https://api.openweathermap.org/data/2.5/weather?lat={lat}&lon={lon}&appid={apikey}&lang={lang}&units=metric\" #유닛 메트릭으로 화씨 섭씨 변환 가능\n",
        "\n",
        "result = requests.get(api)\n",
        "print(result.text)\n",
        "\n",
        "data = json.loads(result.text)\n",
        "\n",
        "print(type(result.text))\n",
        "print(type(data))"
      ],
      "metadata": {
        "id": "60U95ts8OVBH"
      },
      "execution_count": null,
      "outputs": []
    },
    {
      "cell_type": "code",
      "source": [
        "import requests\n",
        "import json\n",
        "\n",
        "lat = 37.54\n",
        "lon = 126.98\n",
        "apikey = \"0f9cd0afbc2acb492d5e7949bed9e76e\"\n",
        "lang = \"kr\"\n",
        "\n",
        "api = f\"https://api.openweathermap.org/data/2.5/weather?lat={lat}&lon={lon}&appid={apikey}&lang={lang}&units=metric\"\n",
        "\n",
        "result = requests.get(api)\n",
        "data = json.loads(result.text)\n",
        "\n",
        "print(data[\"name\"],\"의 날씨입니다.\")\n",
        "print(\"날씨는 \",data[\"weather\"][0][\"description\"],\"입니다.\")\n",
        "print(\"현재 온도는 \",data[\"main\"][\"temp\"],\"입니다.\")\n",
        "print(\"하지만 체감 온도는 \",data[\"main\"][\"feels_like\"],\"입니다.\")\n",
        "print(\"최저 기온은 \",data[\"main\"][\"temp_min\"],\"입니다.\")\n",
        "print(\"최고 기온은 \",data[\"main\"][\"temp_max\"],\"입니다.\")\n",
        "print(\"습도는 \",data[\"main\"][\"humidity\"],\"입니다.\")\n",
        "print(\"기압은 \",data[\"main\"][\"pressure\"],\"입니다.\")\n",
        "print(\"풍향은 \",data[\"wind\"][\"deg\"],\"입니다.\")\n",
        "print(\"풍속은 \",data[\"wind\"][\"speed\"],\"입니다.\")"
      ],
      "metadata": {
        "id": "z8V3ZCzwyZ67"
      },
      "execution_count": null,
      "outputs": []
    }
  ]
}