{
  "nbformat": 4,
  "nbformat_minor": 0,
  "metadata": {
    "colab": {
      "private_outputs": true,
      "provenance": []
    },
    "kernelspec": {
      "name": "python3",
      "display_name": "Python 3"
    },
    "language_info": {
      "name": "python"
    }
  },
  "cells": [
    {
      "cell_type": "code",
      "source": [
        "pip install googletrans"
      ],
      "metadata": {
        "id": "bsKkZMuKPYc4"
      },
      "execution_count": null,
      "outputs": []
    },
    {
      "cell_type": "code",
      "source": [
        "#번역기 만들기\n",
        "from googletrans import Translator\n",
        "\n",
        "translator = Translator()"
      ],
      "metadata": {
        "id": "hYjz71JxPZfU"
      },
      "execution_count": null,
      "outputs": []
    },
    {
      "cell_type": "code",
      "source": [
        "#언어 감지\n",
        "from googletrans import Translator\n",
        "\n",
        "translator = Translator()\n",
        "\n",
        "sentence = \"좋은 아침이에요\"\n",
        "detected = translator.detect(sentence)\n",
        "print(detected.lang)"
      ],
      "metadata": {
        "id": "kMi16mWtPZb6"
      },
      "execution_count": null,
      "outputs": []
    },
    {
      "cell_type": "code",
      "source": [
        "from googletrans import Translator\n",
        "\n",
        "translator = Translator()\n",
        "\n",
        "sentence = \"안녕하세요 코드라이언입니다.\"\n",
        "# sentence = input(\"언어를 감지할 문장을 입력해주세요 : \")\n",
        "\n",
        "result = translator.translate(sentence,'en')\n",
        "detected = translator.detect(sentence)\n",
        "\n",
        "print(detected.lang,\":\",sentence)\n",
        "print(result.dest,\":\",result.text)"
      ],
      "metadata": {
        "id": "TYYI3bhCV1my"
      },
      "execution_count": null,
      "outputs": []
    },
    {
      "cell_type": "code",
      "execution_count": null,
      "metadata": {
        "id": "DvFgBGr5PSkh"
      },
      "outputs": [],
      "source": [
        "from googletrans import Translator\n",
        "\n",
        "translator = Translator()\n",
        "# sentence = \"좋은 아침이에요\"\n",
        "sentence = input(\"번역을 원하는 문장을 입력하세요 : \")\n",
        "result = translator.translate(sentence, dest=\"en\")\n",
        "detect = translator.detect(sentence)\n",
        "\n",
        "print(\"\\n============= 번역 결과 ============\\n\")\n",
        "print(detect.lang,\":\", result.origin)\n",
        "print(result.dest,\":\", result.text)\n",
        "print(\"\\n====================================\\n\")"
      ]
    },
    {
      "cell_type": "code",
      "source": [],
      "metadata": {
        "id": "CtWpneUKRnso"
      },
      "execution_count": null,
      "outputs": []
    }
  ]
}