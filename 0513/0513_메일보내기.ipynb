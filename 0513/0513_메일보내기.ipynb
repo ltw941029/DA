{
  "nbformat": 4,
  "nbformat_minor": 0,
  "metadata": {
    "colab": {
      "private_outputs": true,
      "provenance": []
    },
    "kernelspec": {
      "name": "python3",
      "display_name": "Python 3"
    },
    "language_info": {
      "name": "python"
    }
  },
  "cells": [
    {
      "cell_type": "code",
      "source": [
        "#https://likelion.notion.site/Google-IMAP-ca417541e62b4f958ff695b8db8c0feb  IMAP 상태값"
      ],
      "metadata": {
        "id": "SqKYaXezYb1y"
      },
      "execution_count": null,
      "outputs": []
    },
    {
      "cell_type": "code",
      "source": [
        "#https://likelion.notion.site/Google-93ee4cffb5b7481584be4de44ce5bf5e  보안수정"
      ],
      "metadata": {
        "id": "mzUhEQ06YbdE"
      },
      "execution_count": null,
      "outputs": []
    },
    {
      "cell_type": "code",
      "source": [
        "from email.message import EmailMessage\n",
        "import smtplib\n",
        "\n",
        "SMTP_SERVER = \"smtp.gmail.com\"\n",
        "\n",
        "SMTP_PORT = 465\n",
        "\n",
        "def is_valid(addr):\n",
        "    import re\n",
        "    if re.match('(^[a-zA-Z0-9.+_-]+@[a-zA-Z0-9-]+.[a-zA-Z]{2,3}$)', addr):\n",
        "        return True\n",
        "    else:\n",
        "        return False\n",
        "\n",
        "message = EmailMessage()\n",
        "message.set_content(\"코드라이언 메일링 수업 - 본문입니다.\")\n",
        "\n",
        "message[\"Subject\"] = \"코드라이언 메일링 수업입니다.\"\n",
        "message[\"From\"] = \"###@gmail.com\"\n",
        "message[\"To\"] = \"###@gmail.com\"\n",
        "\n",
        "smtp = smtplib.SMTP_SSL(SMTP_SERVER,SMTP_PORT)\n",
        "smtp.login(\"###@gmail.com\",\"######\")\n",
        "\n",
        "is_valid(\"###@gmail.com\")\n",
        "if smtp.send_message(message)=={} :\n",
        "    print(\"성공적으로 메일을 보냈습니다.\")\n",
        "\n",
        "smtp.quit()"
      ],
      "metadata": {
        "id": "XU2ESLpJw04R"
      },
      "execution_count": null,
      "outputs": []
    },
    {
      "cell_type": "code",
      "source": [
        "# SMTP 접속을 위한 서버, 계정 설정\n",
        "SMTP_SERVER = \"smtp.gmail.com\"\n",
        "\n",
        "# google의 SMTP server 포트 주소는 465\n",
        "SMTP_PORT = 465\n",
        "\n",
        "smtp = smtplib.SMTP_SSL(SMTP_SERVER,SMTP_PORT)"
      ],
      "metadata": {
        "id": "BW13OWQaekg3"
      },
      "execution_count": null,
      "outputs": []
    },
    {
      "cell_type": "code",
      "source": [
        "# 이미지 첨부\n",
        "with open(\"codelion.png\",\"rb\") as image:\n",
        "    image_file = image.read()\n",
        "\n",
        "image_type = imghdr.what('codelion',image_file)\n",
        "print(image_type)\n",
        "message.add_attachment(image_file,maintype='image',subtype='png')"
      ],
      "metadata": {
        "id": "1CeN9YkLerKX"
      },
      "execution_count": null,
      "outputs": []
    },
    {
      "cell_type": "code",
      "source": [
        "#유효성 검사\n",
        "#^[a-zA-Z0-9.+_-]+@[a-zA-Z0-9-]+.[a-zA-Z]{2,3}$\n",
        "#[a-zA-Z0-9.+_-]+                       \n",
        "#(a부터 z까지, A부터 Z까지,0부터 9까지,.,+,_,-) 가 1회 이상 반복 \n",
        "#@[a-zA-Z0-9-]+\n",
        "#뒤에 @가 붙는다 A부터 Z까지,0부터 9까지 가 1회 이상 반복\n",
        "#\\.\n",
        "#그 뒤에 '.' 이 붙는다\n",
        "#[a-zA-Z]{2,3}\n",
        "#a부터 z까지, A부터 Z까지 가 최소 2회, 최대 3회 반복된다"
      ],
      "metadata": {
        "id": "Y7p51HuSqT7k"
      },
      "execution_count": null,
      "outputs": []
    },
    {
      "cell_type": "code",
      "execution_count": null,
      "metadata": {
        "id": "tkw4vxzbYRjE"
      },
      "outputs": [],
      "source": [
        "import smtplib\n",
        "from email.message import EmailMessage\n",
        "import imghdr\n",
        "import re\n",
        "\n",
        "SMTP_SERVER = \"smtp.gmail.com\"\n",
        "SMTP_PORT = 465\n",
        "\n",
        "def sendEmail(addr):\n",
        "    reg = \"^[a-zA-Z0-9.+_-]+@[a-zA-Z0-9]+\\.[a-zA-Z]{2,3}$\"\n",
        "    if bool(re.match(reg,addr)):\n",
        "        smtp.send_message(message)\n",
        "        print(\"정상적으로 메일이 발송되었습니다.\")\n",
        "    else:\n",
        "        print(\"유효한 이메일 주소가 아닙니다.\")\n",
        "\n",
        "message = EmailMessage()\n",
        "message.set_content(\"코드라이언 수업중입니다.\")\n",
        "\n",
        "message[\"Subject\"] = \"이것은 제목입니다.\"\n",
        "message[\"From\"] = \"###@gmail.com\"\n",
        "message[\"To\"] = \"###@gmail.com\"\n",
        "\n",
        "with open(\"codelion.png\",\"rb\") as image:\n",
        "    image_file = image.read()\n",
        "\n",
        "image_type = imghdr.what('codelion',image_file)\n",
        "message.add_attachment(image_file,maintype='image',subtype=image_type)\n",
        "\n",
        "smtp = smtplib.SMTP_SSL(SMTP_SERVER,SMTP_PORT)\n",
        "smtp.login(\"###@gmail.com\",\"######\")\n",
        "\n",
        "sendEmail(\"###@gmail.com\")\n",
        "smtp.quit()"
      ]
    }
  ]
}